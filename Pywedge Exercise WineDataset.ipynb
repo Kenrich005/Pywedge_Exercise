{
 "cells": [
  {
   "cell_type": "markdown",
   "id": "0fdbdc06",
   "metadata": {},
   "source": [
    "##### 23-Sept-21"
   ]
  },
  {
   "cell_type": "markdown",
   "id": "3b5d7252",
   "metadata": {},
   "source": [
    "## Understanding PyWedge Library"
   ]
  },
  {
   "cell_type": "code",
   "execution_count": 1,
   "id": "fe46bcae",
   "metadata": {},
   "outputs": [
    {
     "data": {
      "text/html": [
       "<div>\n",
       "<style scoped>\n",
       "    .dataframe tbody tr th:only-of-type {\n",
       "        vertical-align: middle;\n",
       "    }\n",
       "\n",
       "    .dataframe tbody tr th {\n",
       "        vertical-align: top;\n",
       "    }\n",
       "\n",
       "    .dataframe thead th {\n",
       "        text-align: right;\n",
       "    }\n",
       "</style>\n",
       "<table border=\"1\" class=\"dataframe\">\n",
       "  <thead>\n",
       "    <tr style=\"text-align: right;\">\n",
       "      <th></th>\n",
       "      <th>Wine</th>\n",
       "      <th>Alcohol</th>\n",
       "      <th>Malic.acid</th>\n",
       "      <th>Ash</th>\n",
       "      <th>Acl</th>\n",
       "      <th>Mg</th>\n",
       "      <th>Phenols</th>\n",
       "      <th>Flavanoids</th>\n",
       "      <th>Nonflavanoid.phenols</th>\n",
       "      <th>Proanth</th>\n",
       "      <th>Color.int</th>\n",
       "      <th>Hue</th>\n",
       "      <th>OD</th>\n",
       "      <th>Proline</th>\n",
       "    </tr>\n",
       "  </thead>\n",
       "  <tbody>\n",
       "    <tr>\n",
       "      <th>0</th>\n",
       "      <td>1</td>\n",
       "      <td>14.23</td>\n",
       "      <td>1.71</td>\n",
       "      <td>2.43</td>\n",
       "      <td>15.6</td>\n",
       "      <td>127</td>\n",
       "      <td>2.80</td>\n",
       "      <td>3.06</td>\n",
       "      <td>0.28</td>\n",
       "      <td>2.29</td>\n",
       "      <td>5.64</td>\n",
       "      <td>1.04</td>\n",
       "      <td>3.92</td>\n",
       "      <td>1065</td>\n",
       "    </tr>\n",
       "    <tr>\n",
       "      <th>1</th>\n",
       "      <td>1</td>\n",
       "      <td>13.20</td>\n",
       "      <td>1.78</td>\n",
       "      <td>2.14</td>\n",
       "      <td>11.2</td>\n",
       "      <td>100</td>\n",
       "      <td>2.65</td>\n",
       "      <td>2.76</td>\n",
       "      <td>0.26</td>\n",
       "      <td>1.28</td>\n",
       "      <td>4.38</td>\n",
       "      <td>1.05</td>\n",
       "      <td>3.40</td>\n",
       "      <td>1050</td>\n",
       "    </tr>\n",
       "    <tr>\n",
       "      <th>2</th>\n",
       "      <td>1</td>\n",
       "      <td>13.16</td>\n",
       "      <td>2.36</td>\n",
       "      <td>2.67</td>\n",
       "      <td>18.6</td>\n",
       "      <td>101</td>\n",
       "      <td>2.80</td>\n",
       "      <td>3.24</td>\n",
       "      <td>0.30</td>\n",
       "      <td>2.81</td>\n",
       "      <td>5.68</td>\n",
       "      <td>1.03</td>\n",
       "      <td>3.17</td>\n",
       "      <td>1185</td>\n",
       "    </tr>\n",
       "    <tr>\n",
       "      <th>3</th>\n",
       "      <td>1</td>\n",
       "      <td>14.37</td>\n",
       "      <td>1.95</td>\n",
       "      <td>2.50</td>\n",
       "      <td>16.8</td>\n",
       "      <td>113</td>\n",
       "      <td>3.85</td>\n",
       "      <td>3.49</td>\n",
       "      <td>0.24</td>\n",
       "      <td>2.18</td>\n",
       "      <td>7.80</td>\n",
       "      <td>0.86</td>\n",
       "      <td>3.45</td>\n",
       "      <td>1480</td>\n",
       "    </tr>\n",
       "    <tr>\n",
       "      <th>4</th>\n",
       "      <td>1</td>\n",
       "      <td>13.24</td>\n",
       "      <td>2.59</td>\n",
       "      <td>2.87</td>\n",
       "      <td>21.0</td>\n",
       "      <td>118</td>\n",
       "      <td>2.80</td>\n",
       "      <td>2.69</td>\n",
       "      <td>0.39</td>\n",
       "      <td>1.82</td>\n",
       "      <td>4.32</td>\n",
       "      <td>1.04</td>\n",
       "      <td>2.93</td>\n",
       "      <td>735</td>\n",
       "    </tr>\n",
       "  </tbody>\n",
       "</table>\n",
       "</div>"
      ],
      "text/plain": [
       "   Wine  Alcohol  Malic.acid   Ash   Acl   Mg  Phenols  Flavanoids  \\\n",
       "0     1    14.23        1.71  2.43  15.6  127     2.80        3.06   \n",
       "1     1    13.20        1.78  2.14  11.2  100     2.65        2.76   \n",
       "2     1    13.16        2.36  2.67  18.6  101     2.80        3.24   \n",
       "3     1    14.37        1.95  2.50  16.8  113     3.85        3.49   \n",
       "4     1    13.24        2.59  2.87  21.0  118     2.80        2.69   \n",
       "\n",
       "   Nonflavanoid.phenols  Proanth  Color.int   Hue    OD  Proline  \n",
       "0                  0.28     2.29       5.64  1.04  3.92     1065  \n",
       "1                  0.26     1.28       4.38  1.05  3.40     1050  \n",
       "2                  0.30     2.81       5.68  1.03  3.17     1185  \n",
       "3                  0.24     2.18       7.80  0.86  3.45     1480  \n",
       "4                  0.39     1.82       4.32  1.04  2.93      735  "
      ]
     },
     "execution_count": 1,
     "metadata": {},
     "output_type": "execute_result"
    }
   ],
   "source": [
    "import pandas as pd\n",
    "import numpy as np\n",
    "import matplotlib.pyplot as plt\n",
    "import seaborn as sns\n",
    "import warnings\n",
    "warnings.filterwarnings(\"ignore\")\n",
    "\n",
    "import pywedge as pw\n",
    "    \n",
    "df = pd.read_excel('https://github.com/Kenrich005/Pywedge_Exercise/blob/main/wine.xlsx?raw=true')\n",
    "df.head()"
   ]
  },
  {
   "cell_type": "code",
   "execution_count": 2,
   "id": "395bef1f",
   "metadata": {},
   "outputs": [
    {
     "name": "stdout",
     "output_type": "stream",
     "text": [
      "<class 'pandas.core.frame.DataFrame'>\n",
      "RangeIndex: 178 entries, 0 to 177\n",
      "Data columns (total 14 columns):\n",
      " #   Column                Non-Null Count  Dtype  \n",
      "---  ------                --------------  -----  \n",
      " 0   Wine                  178 non-null    int64  \n",
      " 1   Alcohol               178 non-null    float64\n",
      " 2   Malic.acid            178 non-null    float64\n",
      " 3   Ash                   178 non-null    float64\n",
      " 4   Acl                   178 non-null    float64\n",
      " 5   Mg                    178 non-null    int64  \n",
      " 6   Phenols               178 non-null    float64\n",
      " 7   Flavanoids            178 non-null    float64\n",
      " 8   Nonflavanoid.phenols  178 non-null    float64\n",
      " 9   Proanth               178 non-null    float64\n",
      " 10  Color.int             178 non-null    float64\n",
      " 11  Hue                   178 non-null    float64\n",
      " 12  OD                    178 non-null    float64\n",
      " 13  Proline               178 non-null    int64  \n",
      "dtypes: float64(11), int64(3)\n",
      "memory usage: 19.6 KB\n"
     ]
    }
   ],
   "source": [
    "df.info()"
   ]
  },
  {
   "cell_type": "code",
   "execution_count": 3,
   "id": "adea5973",
   "metadata": {
    "scrolled": false
   },
   "outputs": [
    {
     "name": "stdout",
     "output_type": "stream",
     "text": [
      "<class 'pandas.core.frame.DataFrame'>\n",
      "RangeIndex: 178 entries, 0 to 177\n",
      "Data columns (total 14 columns):\n",
      " #   Column                Non-Null Count  Dtype  \n",
      "---  ------                --------------  -----  \n",
      " 0   Wine                  178 non-null    object \n",
      " 1   Alcohol               178 non-null    float64\n",
      " 2   Malic.acid            178 non-null    float64\n",
      " 3   Ash                   178 non-null    float64\n",
      " 4   Acl                   178 non-null    float64\n",
      " 5   Mg                    178 non-null    int64  \n",
      " 6   Phenols               178 non-null    float64\n",
      " 7   Flavanoids            178 non-null    float64\n",
      " 8   Nonflavanoid.phenols  178 non-null    float64\n",
      " 9   Proanth               178 non-null    float64\n",
      " 10  Color.int             178 non-null    float64\n",
      " 11  Hue                   178 non-null    float64\n",
      " 12  OD                    178 non-null    float64\n",
      " 13  Proline               178 non-null    int64  \n",
      "dtypes: float64(11), int64(2), object(1)\n",
      "memory usage: 19.6+ KB\n"
     ]
    }
   ],
   "source": [
    "# Converting Wine to object format\n",
    "df.Wine = df.Wine.astype('str')\n",
    "df.info()"
   ]
  },
  {
   "cell_type": "markdown",
   "id": "7119017f",
   "metadata": {},
   "source": [
    "## Regression using Pywedge"
   ]
  },
  {
   "cell_type": "code",
   "execution_count": 4,
   "id": "9bddaa64",
   "metadata": {},
   "outputs": [],
   "source": [
    "# Creating dummy test set\n",
    "df_Alcohol_test = df.drop('Alcohol', axis=1).sample(50)"
   ]
  },
  {
   "cell_type": "code",
   "execution_count": 5,
   "id": "b74added",
   "metadata": {},
   "outputs": [
    {
     "data": {
      "application/vnd.jupyter.widget-view+json": {
       "model_id": "0b2a4d747ad54187b1e9122bf9d85c6c",
       "version_major": 2,
       "version_minor": 0
      },
      "text/plain": [
       "HTML(value='<h2>Pywedge Make_Charts </h2>')"
      ]
     },
     "metadata": {},
     "output_type": "display_data"
    },
    {
     "data": {
      "application/vnd.jupyter.widget-view+json": {
       "model_id": "23268a1708e24e5e9bd3844a88622c5c",
       "version_major": 2,
       "version_minor": 0
      },
      "text/plain": [
       "Tab(children=(Output(), Output(), Output(), Output(), Output(), Output(), Output(), Output()), _titles={'0': '…"
      ]
     },
     "metadata": {},
     "output_type": "display_data"
    }
   ],
   "source": [
    "charts = pw.Pywedge_Charts(df, c=None, y = 'Alcohol')\n",
    "\n",
    "# Calling the make_charts method\n",
    "plots = charts.make_charts()"
   ]
  },
  {
   "cell_type": "code",
   "execution_count": 6,
   "id": "5a42b7ef",
   "metadata": {},
   "outputs": [
    {
     "data": {
      "application/vnd.jupyter.widget-view+json": {
       "model_id": "e76f40b110bc4fa99874ae7baebba131",
       "version_major": 2,
       "version_minor": 0
      },
      "text/plain": [
       "HTML(value='<h2>Pywedge Baseline Models </h2>')"
      ]
     },
     "metadata": {},
     "output_type": "display_data"
    },
    {
     "data": {
      "application/vnd.jupyter.widget-view+json": {
       "model_id": "e42f7bc112b9438f9609d54fb8094a53",
       "version_major": 2,
       "version_minor": 0
      },
      "text/plain": [
       "Tab(children=(Output(), Output()), _titles={'0': 'Baseline Models', '1': 'Predict Baseline Model'})"
      ]
     },
     "metadata": {},
     "output_type": "display_data"
    }
   ],
   "source": [
    "# Calling baseline_model method to prepare all the baseline models\n",
    "blm = pw.baseline_model(df,df_Alcohol_test, c=None, y='Alcohol')\n",
    "\n",
    "# Printing the Regression summary\n",
    "blm.Regression_summary()"
   ]
  },
  {
   "cell_type": "code",
   "execution_count": 7,
   "id": "611839e8",
   "metadata": {},
   "outputs": [
    {
     "data": {
      "text/plain": [
       "array([[13.786],\n",
       "       [13.658],\n",
       "       [12.094],\n",
       "       [12.114],\n",
       "       [12.276],\n",
       "       [13.572],\n",
       "       [12.454],\n",
       "       [12.552],\n",
       "       [13.488],\n",
       "       [12.136],\n",
       "       [13.906],\n",
       "       [12.174],\n",
       "       [12.334],\n",
       "       [13.13 ],\n",
       "       [12.88 ],\n",
       "       [13.438],\n",
       "       [12.97 ],\n",
       "       [13.004],\n",
       "       [12.728],\n",
       "       [13.168],\n",
       "       [13.534],\n",
       "       [13.544],\n",
       "       [12.902],\n",
       "       [13.884],\n",
       "       [12.538],\n",
       "       [12.608],\n",
       "       [12.69 ],\n",
       "       [12.598],\n",
       "       [13.366],\n",
       "       [12.438],\n",
       "       [14.006],\n",
       "       [11.976],\n",
       "       [13.592],\n",
       "       [14.046],\n",
       "       [13.37 ],\n",
       "       [11.912],\n",
       "       [12.464],\n",
       "       [13.876],\n",
       "       [12.438],\n",
       "       [12.914],\n",
       "       [12.114],\n",
       "       [13.994],\n",
       "       [13.028],\n",
       "       [12.498],\n",
       "       [12.506],\n",
       "       [13.584],\n",
       "       [13.968],\n",
       "       [13.73 ],\n",
       "       [14.014],\n",
       "       [13.7  ]])"
      ]
     },
     "execution_count": 7,
     "metadata": {},
     "output_type": "execute_result"
    }
   ],
   "source": [
    "blm.predictions_baseline"
   ]
  },
  {
   "cell_type": "markdown",
   "id": "607e79ff",
   "metadata": {},
   "source": [
    "## Hyperparameter Tuning"
   ]
  },
  {
   "cell_type": "code",
   "execution_count": 8,
   "id": "9fee973f",
   "metadata": {},
   "outputs": [
    {
     "data": {
      "application/vnd.jupyter.widget-view+json": {
       "model_id": "75362bae99b84dfd9a5bd109b4de6e0a",
       "version_major": 2,
       "version_minor": 0
      },
      "text/plain": [
       "Tab(children=(Output(), Output(), Output()), _titles={'0': 'Input', '1': 'Output', '2': 'Helper Page'})"
      ]
     },
     "metadata": {},
     "output_type": "display_data"
    }
   ],
   "source": [
    "pph = pw.Pywedge_HP(df, df_Alcohol_test, c=None, y='Alcohol')\n",
    "pph.HP_Tune_Regression()"
   ]
  },
  {
   "cell_type": "code",
   "execution_count": 9,
   "id": "30fd62cd",
   "metadata": {},
   "outputs": [
    {
     "data": {
      "text/plain": [
       "array([13.336875, 13.336875, 12.1398  , 12.1398  , 12.1398  , 13.336875,\n",
       "       12.1398  , 13.336875, 13.336875, 12.1398  , 13.336875, 12.1398  ,\n",
       "       12.1398  , 13.336875, 13.336875, 13.336875, 13.336875, 13.336875,\n",
       "       13.336875, 13.336875, 13.336875, 13.336875, 12.1398  , 13.336875,\n",
       "       12.1398  , 13.336875, 13.336875, 13.336875, 12.1398  , 13.336875,\n",
       "       13.336875, 12.1398  , 13.336875, 13.336875, 13.336875, 12.1398  ,\n",
       "       12.1398  , 13.336875, 12.1398  , 13.336875, 13.336875, 13.336875,\n",
       "       13.336875, 13.336875, 13.336875, 13.336875, 13.336875, 13.336875,\n",
       "       13.336875, 13.336875])"
      ]
     },
     "execution_count": 9,
     "metadata": {},
     "output_type": "execute_result"
    }
   ],
   "source": [
    "pph.predict_HP"
   ]
  },
  {
   "cell_type": "markdown",
   "id": "ccec5841",
   "metadata": {},
   "source": [
    "## Classification using Pywedge"
   ]
  },
  {
   "cell_type": "code",
   "execution_count": 10,
   "id": "342f8567",
   "metadata": {},
   "outputs": [
    {
     "name": "stdout",
     "output_type": "stream",
     "text": [
      "<class 'pandas.core.frame.DataFrame'>\n",
      "Int64Index: 50 entries, 128 to 100\n",
      "Data columns (total 13 columns):\n",
      " #   Column                Non-Null Count  Dtype  \n",
      "---  ------                --------------  -----  \n",
      " 0   Alcohol               50 non-null     float64\n",
      " 1   Malic.acid            50 non-null     float64\n",
      " 2   Ash                   50 non-null     float64\n",
      " 3   Acl                   50 non-null     float64\n",
      " 4   Mg                    50 non-null     int64  \n",
      " 5   Phenols               50 non-null     float64\n",
      " 6   Flavanoids            50 non-null     float64\n",
      " 7   Nonflavanoid.phenols  50 non-null     float64\n",
      " 8   Proanth               50 non-null     float64\n",
      " 9   Color.int             50 non-null     float64\n",
      " 10  Hue                   50 non-null     float64\n",
      " 11  OD                    50 non-null     float64\n",
      " 12  Proline               50 non-null     int64  \n",
      "dtypes: float64(11), int64(2)\n",
      "memory usage: 5.5 KB\n"
     ]
    }
   ],
   "source": [
    "# Creating dummy test set using Wine as the target variable\n",
    "df_wine_test = df.drop('Wine', axis=1).sample(50)\n",
    "df_wine_test.info()"
   ]
  },
  {
   "cell_type": "code",
   "execution_count": 11,
   "id": "c9fd3b7e",
   "metadata": {
    "scrolled": false
   },
   "outputs": [
    {
     "data": {
      "application/vnd.jupyter.widget-view+json": {
       "model_id": "83c97e6d6095467d973f0aa32665ed03",
       "version_major": 2,
       "version_minor": 0
      },
      "text/plain": [
       "HTML(value='<h2>Pywedge Make_Charts </h2>')"
      ]
     },
     "metadata": {},
     "output_type": "display_data"
    },
    {
     "data": {
      "application/vnd.jupyter.widget-view+json": {
       "model_id": "e17c6787e8d74a388e209aaa2d0331a6",
       "version_major": 2,
       "version_minor": 0
      },
      "text/plain": [
       "Tab(children=(Output(), Output(), Output(), Output(), Output(), Output(), Output(), Output()), _titles={'0': '…"
      ]
     },
     "metadata": {},
     "output_type": "display_data"
    }
   ],
   "source": [
    "charts = pw.Pywedge_Charts(df, c=None, y = 'Wine')\n",
    "\n",
    "# Calling the make_charts method\n",
    "plots = charts.make_charts()"
   ]
  },
  {
   "cell_type": "code",
   "execution_count": 12,
   "id": "cec3ce32",
   "metadata": {},
   "outputs": [
    {
     "name": "stdout",
     "output_type": "stream",
     "text": [
      "<class 'pandas.core.frame.DataFrame'>\n",
      "RangeIndex: 178 entries, 0 to 177\n",
      "Data columns (total 14 columns):\n",
      " #   Column                Non-Null Count  Dtype  \n",
      "---  ------                --------------  -----  \n",
      " 0   Wine                  178 non-null    object \n",
      " 1   Alcohol               178 non-null    float64\n",
      " 2   Malic.acid            178 non-null    float64\n",
      " 3   Ash                   178 non-null    float64\n",
      " 4   Acl                   178 non-null    float64\n",
      " 5   Mg                    178 non-null    int64  \n",
      " 6   Phenols               178 non-null    float64\n",
      " 7   Flavanoids            178 non-null    float64\n",
      " 8   Nonflavanoid.phenols  178 non-null    float64\n",
      " 9   Proanth               178 non-null    float64\n",
      " 10  Color.int             178 non-null    float64\n",
      " 11  Hue                   178 non-null    float64\n",
      " 12  OD                    178 non-null    float64\n",
      " 13  Proline               178 non-null    int64  \n",
      "dtypes: float64(11), int64(2), object(1)\n",
      "memory usage: 19.6+ KB\n"
     ]
    }
   ],
   "source": [
    "df.info()"
   ]
  },
  {
   "cell_type": "code",
   "execution_count": 13,
   "id": "1cbb224e",
   "metadata": {},
   "outputs": [
    {
     "data": {
      "application/vnd.jupyter.widget-view+json": {
       "model_id": "c46b6fbf898746b2b55673449b908a19",
       "version_major": 2,
       "version_minor": 0
      },
      "text/plain": [
       "HTML(value='<h2>Pywedge Baseline Models </h2>')"
      ]
     },
     "metadata": {},
     "output_type": "display_data"
    },
    {
     "data": {
      "application/vnd.jupyter.widget-view+json": {
       "model_id": "b4a67e39e5a642baa9b96d403f5e479a",
       "version_major": 2,
       "version_minor": 0
      },
      "text/plain": [
       "Tab(children=(Output(), Output()), _titles={'0': 'Baseline Models', '1': 'Predict Baseline Model'})"
      ]
     },
     "metadata": {},
     "output_type": "display_data"
    }
   ],
   "source": [
    "# Calling baseline_model method to prepare all the baseline models\n",
    "blm = pw.baseline_model(df,df_wine_test, c=None, y='Wine')\n",
    "\n",
    "# Printing the classification summary\n",
    "blm.classification_summary()"
   ]
  }
 ],
 "metadata": {
  "kernelspec": {
   "display_name": "Python 3",
   "language": "python",
   "name": "python3"
  },
  "language_info": {
   "codemirror_mode": {
    "name": "ipython",
    "version": 3
   },
   "file_extension": ".py",
   "mimetype": "text/x-python",
   "name": "python",
   "nbconvert_exporter": "python",
   "pygments_lexer": "ipython3",
   "version": "3.8.8"
  }
 },
 "nbformat": 4,
 "nbformat_minor": 5
}
